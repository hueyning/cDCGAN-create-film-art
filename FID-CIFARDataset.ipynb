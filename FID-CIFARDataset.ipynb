{
 "cells": [
  {
   "cell_type": "code",
   "execution_count": 7,
   "metadata": {},
   "outputs": [],
   "source": [
    "from eval_metrics.inception_network import *\n",
    "from eval_metrics.FID import *\n"
   ]
  },
  {
   "cell_type": "code",
   "execution_count": 8,
   "metadata": {},
   "outputs": [
    {
     "name": "stdout",
     "output_type": "stream",
     "text": [
      "Files already downloaded and verified\n"
     ]
    }
   ],
   "source": [
    "# Create the dataset\n",
    "import torchvision\n",
    "import torchvision.datasets as dset\n",
    "import torchvision.transforms as transforms\n",
    "\n",
    "image_size_cifar = 32\n",
    "\n",
    "# create dataloaders\n",
    "dataset = torchvision.datasets.CIFAR10(root='./data', train=True,\n",
    "                                        download=True, \n",
    "                                       transform=transforms.Compose([\n",
    "                                         transforms.ToTensor(),\n",
    "                                         transforms.Normalize((0.5, 0.5, 0.5), (0.5, 0.5, 0.5))\n",
    "                                        ]))\n",
    "\n",
    "# import dataset of generated images    \n",
    "gen_dataset = dset.ImageFolder(\n",
    "                    root='capstone-cifar-eval/fake_images',\n",
    "                   transform=transforms.Compose([\n",
    "                   transforms.Resize(image_size_cifar),\n",
    "                   transforms.CenterCrop(image_size_cifar),\n",
    "                   transforms.RandomHorizontalFlip(p=0.5),\n",
    "                   transforms.ToTensor(),\n",
    "                   transforms.Normalize((0.5, 0.5, 0.5), (0.5, 0.5, 0.5)),\n",
    "                   ]))\n"
   ]
  },
  {
   "cell_type": "code",
   "execution_count": 9,
   "metadata": {},
   "outputs": [
    {
     "name": "stdout",
     "output_type": "stream",
     "text": [
      "Calculated activation statistics for first dataset.\n",
      "Calculated activation statistics for second dataset.\n",
      "FID value is: 71.79059990074728\n"
     ]
    }
   ],
   "source": [
    "fid_value = calculate_fid_given_paths(IgnoreLabelDataset(dataset), IgnoreLabelDataset(gen_dataset),\n",
    "                          batch_size=32, cuda=False, dims=2048)\n",
    "\n",
    "print(f\"FID value is: {fid_value}\")"
   ]
  },
  {
   "cell_type": "code",
   "execution_count": 10,
   "metadata": {},
   "outputs": [
    {
     "name": "stdout",
     "output_type": "stream",
     "text": [
      "FID value is: 71.79059990074728\n"
     ]
    }
   ],
   "source": [
    "print(f\"FID value is: {fid_value}\")"
   ]
  },
  {
   "cell_type": "code",
   "execution_count": null,
   "metadata": {},
   "outputs": [],
   "source": []
  }
 ],
 "metadata": {
  "kernelspec": {
   "display_name": "Python 3",
   "language": "python",
   "name": "python3"
  },
  "language_info": {
   "codemirror_mode": {
    "name": "ipython",
    "version": 3
   },
   "file_extension": ".py",
   "mimetype": "text/x-python",
   "name": "python",
   "nbconvert_exporter": "python",
   "pygments_lexer": "ipython3",
   "version": "3.6.8"
  }
 },
 "nbformat": 4,
 "nbformat_minor": 2
}
