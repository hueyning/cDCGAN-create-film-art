{
 "cells": [
  {
   "cell_type": "code",
   "execution_count": 1,
   "metadata": {},
   "outputs": [],
   "source": [
    "from eval_metrics.inception_network import *\n",
    "from eval_metrics.FID import *\n"
   ]
  },
  {
   "cell_type": "code",
   "execution_count": 2,
   "metadata": {},
   "outputs": [],
   "source": [
    "# Create the dataset\n",
    "import torchvision.datasets as dset\n",
    "import torchvision.transforms as transforms\n",
    "\n",
    "image_size_art = 64\n",
    "\n",
    "# Create the dataset\n",
    "dataset = dset.ImageFolder(root='images',\n",
    "                           transform=transforms.Compose([\n",
    "                           transforms.Resize(image_size_art),\n",
    "                           transforms.CenterCrop(image_size_art),\n",
    "                           transforms.RandomHorizontalFlip(p=0.5),\n",
    "                           transforms.ToTensor(),\n",
    "                           transforms.Normalize((0.5, 0.5, 0.5), (0.5, 0.5, 0.5)),\n",
    "                           ]))\n",
    "\n",
    "\n",
    "gen_dataset = dset.ImageFolder(\n",
    "                    root='capstone-novel-eval/fake_images',\n",
    "                   transform=transforms.Compose([\n",
    "                   transforms.Resize(image_size_art),\n",
    "                   transforms.CenterCrop(image_size_art),\n",
    "                   transforms.RandomHorizontalFlip(p=0.5),\n",
    "                   transforms.ToTensor(),\n",
    "                   transforms.Normalize((0.5, 0.5, 0.5), (0.5, 0.5, 0.5)),\n",
    "                   ]))\n"
   ]
  },
  {
   "cell_type": "code",
   "execution_count": null,
   "metadata": {},
   "outputs": [],
   "source": [
    "fid_value = calculate_fid_given_paths(IgnoreLabelDataset(dataset), IgnoreLabelDataset(gen_dataset),\n",
    "                          batch_size=32, cuda=False, dims=2048)\n",
    "\n",
    "print(f\"FID value is: {fid_value}\")"
   ]
  }
 ],
 "metadata": {
  "kernelspec": {
   "display_name": "Python 3",
   "language": "python",
   "name": "python3"
  },
  "language_info": {
   "codemirror_mode": {
    "name": "ipython",
    "version": 3
   },
   "file_extension": ".py",
   "mimetype": "text/x-python",
   "name": "python",
   "nbconvert_exporter": "python",
   "pygments_lexer": "ipython3",
   "version": "3.6.8"
  }
 },
 "nbformat": 4,
 "nbformat_minor": 2
}
